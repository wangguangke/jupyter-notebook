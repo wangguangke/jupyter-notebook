{
 "cells": [
  {
   "cell_type": "code",
   "execution_count": 1,
   "metadata": {},
   "outputs": [],
   "source": [
    "from sklearn.datasets import load_iris\n",
    "from sklearn import tree\n",
    "iris = load_iris()\n",
    "clf = tree.DecisionTreeClassifier(criterion=\"entropy\")"
   ]
  },
  {
   "cell_type": "code",
   "execution_count": 2,
   "metadata": {},
   "outputs": [],
   "source": [
    "X = [[20, 30000, 400],\n",
    "     [37, 13000, 0],\n",
    "     [50, 26000, 0],\n",
    "     [28, 10000, 3000],\n",
    "     [31, 19000, 1500000],\n",
    "     [46, 7000, 6000]]\n",
    "\n",
    "Y = [1, 0, 0, 0, 1, 0]"
   ]
  },
  {
   "cell_type": "code",
   "execution_count": 3,
   "metadata": {},
   "outputs": [
    {
     "name": "stdout",
     "output_type": "stream",
     "text": [
      "  (0, 0)\t1\n",
      "  (0, 2)\t1\n",
      "  (0, 3)\t1\n",
      "  (1, 0)\t1\n",
      "  (1, 1)\t1\n",
      "  (2, 0)\t1\n",
      "  (2, 2)\t1\n",
      "  (2, 4)\t1\n",
      "  (3, 0)\t1\n",
      "  (3, 1)\t1\n",
      "  (4, 0)\t1\n",
      "  (4, 2)\t1\n",
      "  (4, 3)\t1\n",
      "  (5, 0)\t1\n",
      "  (5, 1)\t1\n",
      "[0.5 0.5 0. ]\n"
     ]
    }
   ],
   "source": [
    "clf = clf.fit(X, Y)\n",
    "\n",
    "test_X = [[40, 6000, 0]]\n",
    "#print(clf.predict(test_X))\n",
    "print(clf.decision_path(X))\n",
    "print(clf.feature_importances_)\n",
    "#print(clf.tree_)"
   ]
  },
  {
   "cell_type": "code",
   "execution_count": 4,
   "metadata": {},
   "outputs": [],
   "source": [
    "import graphviz"
   ]
  },
  {
   "cell_type": "code",
   "execution_count": 5,
   "metadata": {},
   "outputs": [
    {
     "name": "stdout",
     "output_type": "stream",
     "text": [
      "DecisionTreeClassifier(criterion='entropy')\n"
     ]
    }
   ],
   "source": [
    "dot_data = tree.export_graphviz(clf, out_file=None,\n",
    "                                feature_names=[u\"年龄\", u\"收入\", u\"存款\"],  \n",
    "                                class_names=[u\"普通\", u\"VIP\"],\n",
    "                                filled=True, rotate=True)\n",
    "#dot_data = tree.export_graphviz(clf, out_file=None, \n",
    "#                         feature_names=iris.feature_names,  \n",
    "#                         class_names=iris.target_names)\n",
    "\n",
    "\n",
    "graph = graphviz.Source(dot_data)\n",
    "graph.render(\"mytree\")\n",
    "\n",
    "print(clf)"
   ]
  },
  {
   "cell_type": "code",
   "execution_count": null,
   "metadata": {},
   "outputs": [],
   "source": []
  }
 ],
 "metadata": {
  "kernelspec": {
   "display_name": "Python 3",
   "language": "python",
   "name": "python3"
  },
  "language_info": {
   "codemirror_mode": {
    "name": "ipython",
    "version": 3
   },
   "file_extension": ".py",
   "mimetype": "text/x-python",
   "name": "python",
   "nbconvert_exporter": "python",
   "pygments_lexer": "ipython3",
   "version": "3.7.3"
  }
 },
 "nbformat": 4,
 "nbformat_minor": 2
}
