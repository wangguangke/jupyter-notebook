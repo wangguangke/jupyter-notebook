{
 "cells": [
  {
   "cell_type": "code",
   "execution_count": 2,
   "metadata": {},
   "outputs": [
    {
     "name": "stderr",
     "output_type": "stream",
     "text": [
      "C:\\Users\\rosehyr\\Anaconda3\\lib\\site-packages\\numpy\\_distributor_init.py:32: UserWarning: loaded more than 1 DLL from .libs:\n",
      "C:\\Users\\rosehyr\\Anaconda3\\lib\\site-packages\\numpy\\.libs\\libopenblas.GK7GX5KEQ4F6UYO3P26ULGBQYHGQO7J4.gfortran-win_amd64.dll\n",
      "C:\\Users\\rosehyr\\Anaconda3\\lib\\site-packages\\numpy\\.libs\\libopenblas.TXA6YQSD3GCQQC22GEQ54J2UDCXDXHWN.gfortran-win_amd64.dll\n",
      "  stacklevel=1)\n"
     ]
    }
   ],
   "source": [
    "import quandl\n",
    "from sklearn import preprocessing"
   ]
  },
  {
   "cell_type": "code",
   "execution_count": 3,
   "metadata": {},
   "outputs": [],
   "source": [
    "#df = quandl.get('WIKI/GOOGL')\n",
    "df = quandl.get('WIKI/AAPL')"
   ]
  },
  {
   "cell_type": "code",
   "execution_count": 4,
   "metadata": {},
   "outputs": [],
   "source": [
    "import math\n",
    "import numpy as np"
   ]
  },
  {
   "cell_type": "code",
   "execution_count": 5,
   "metadata": {},
   "outputs": [
    {
     "name": "stderr",
     "output_type": "stream",
     "text": [
      "C:\\Users\\rosehyr\\Anaconda3\\lib\\site-packages\\sklearn\\preprocessing\\_data.py:174: UserWarning: Numerical issues were encountered when centering the data and might not be solved. Dataset may contain too large values. You may need to prescale your features.\n",
      "  warnings.warn(\"Numerical issues were encountered \"\n"
     ]
    }
   ],
   "source": [
    "# 定义预测列变量，它存放研究对象的标签名\n",
    "forecast_col = 'Adj. Close'\n",
    "# 定义预测天数，这里设置为所有数据量长度的1%\n",
    "forecast_out = int(math.ceil(0.01*len(df)))\n",
    "# 只用到df中下面的几个字段\n",
    "df = df[['Adj. Open', 'Adj. High', 'Adj. Low', 'Adj. Close', 'Adj. Volume']]\n",
    "# 构造两个新的列\n",
    "# HL_PCT为股票最高价与最低价的变化百分比\n",
    "df['HL_PCT'] = (df['Adj. High'] - df['Adj. Close']) / df['Adj. Close'] * 100.0\n",
    "# PCT_change为股票收盘价与开盘价的变化百分比\n",
    "df['PCT_change'] = (df['Adj. Close'] - df['Adj. Open']) / df['Adj. Open'] * 100.0\n",
    "# 下面为真正用到的特征字段\n",
    "df = df[['Adj. Close', 'HL_PCT', 'PCT_change', 'Adj. Volume']]\n",
    "# 因为scikit-learn并不会处理空数据，需要把为空的数据都设置为一个比较难出现的值，这里取-9999，\n",
    "df.fillna(-99999, inplace=True)\n",
    "# 用label代表该字段，是预测结果\n",
    "# 通过让与Adj. Close列的数据往前移动1%行来表示\n",
    "df['label'] = df[forecast_col].shift(-forecast_out)\n",
    "# 最后生成真正在模型中使用的数据X和y和预测时用到的数据数据X_lately\n",
    "X = np.array(df.drop(['label'], 1))\n",
    "X = preprocessing.scale(X)\n",
    "# 上面生成label列时留下的最后1%行的数据，这些行并没有label数据，因此我们可以拿他们作为预测时用到的输入数据\n",
    "X_lately = X[-forecast_out:]\n",
    "X = X[:-forecast_out]\n",
    "# 抛弃label列中为空的那些行\n",
    "df.dropna(inplace=True)\n",
    "y = np.array(df['label'])"
   ]
  },
  {
   "cell_type": "code",
   "execution_count": 6,
   "metadata": {},
   "outputs": [],
   "source": [
    "# scikit-learn从0.2版本开始废弃cross_validation，改用model_selection\n",
    "from sklearn import  model_selection, svm\n",
    "from sklearn.linear_model import LinearRegression\n",
    "# 开始前，先X和y把数据分成两部分，一部分用来训练，一部分用来测试\n",
    "X_train, X_test, y_train, y_test = model_selection.train_test_split(X, y, test_size=0.2)\n",
    "# 生成scikit-learn的线性回归对象\n",
    "clf = LinearRegression(n_jobs=-1)"
   ]
  },
  {
   "cell_type": "code",
   "execution_count": 7,
   "metadata": {},
   "outputs": [
    {
     "name": "stdout",
     "output_type": "stream",
     "text": [
      "[188.43419842 187.15447948 186.3707221  183.49170637 181.14524534\n",
      " 183.31111979 182.28653999 182.15331345 185.35964018 187.42032493\n",
      " 187.47603567 186.53089937 185.35498504 181.42806583 184.08106921\n",
      " 183.20415525 181.82052491 181.56303644 180.91904617 181.48971515\n",
      " 181.41701747 184.82974711 183.98509008 184.50519179 184.4947656\n",
      " 186.31245721 188.89037623 187.00127819 186.77116029 187.39725793\n",
      " 187.50497294 182.73970526 182.81656031 183.27785984 181.31464593\n",
      " 184.50386414 184.33163315 185.37830523 187.42297903 186.71334186\n",
      " 186.77418862 186.73852366 187.79703905 189.70978437 188.54055131\n",
      " 191.74450239 192.02018288 191.13326987 189.62507015 189.4616267\n",
      " 186.53562704 183.13305303 183.81470673 179.90967827 178.85283371\n",
      " 179.31852426 179.7132501  171.44289571 168.09129864 174.12245365\n",
      " 170.77123907 166.09166691 167.0673543  174.00333137 175.97401846\n",
      " 179.11314851 185.20893103 184.5149861  183.90825071 183.09050493\n",
      " 184.78282763 188.03227228 191.59367791 190.97289007 190.65874404\n",
      " 187.18292055 188.63519929 189.29552697 189.22902723 187.49286085\n",
      " 189.52581841 192.75936324 194.57449813 192.59560533 191.09687497\n",
      " 191.2570509  190.69668502 187.7404353  187.62567106 183.32898172\n",
      " 180.56982761 176.38502561 184.84063585 179.89747261] 0.97687413289233\n"
     ]
    }
   ],
   "source": [
    "# 开始训练\n",
    "clf.fit(X_train, y_train)\n",
    "# 用测试数据评估准确性\n",
    "accuracy = clf.score(X_test, y_test)\n",
    "\n",
    "# 进行预测\n",
    "forecast_set = clf.predict(X_lately)\n",
    "print(forecast_set, accuracy)"
   ]
  },
  {
   "cell_type": "code",
   "execution_count": 8,
   "metadata": {},
   "outputs": [],
   "source": [
    "import matplotlib.pyplot as plt\n",
    "from matplotlib import style\n",
    "import datetime"
   ]
  },
  {
   "cell_type": "code",
   "execution_count": 9,
   "metadata": {},
   "outputs": [],
   "source": [
    "# 修改matplotlib样式\n",
    "style.use('ggplot')\n",
    "one_day = 86400\n",
    "# 在df中新建Forecast列，用于存放预测结果的数据\n",
    "df['Forecast'] = np.nan\n",
    "# 取df最后一行的时间索引\n",
    "last_date = df.iloc[-1].name\n",
    "last_unix = last_date.timestamp()\n",
    "next_unix = last_unix + one_day\n",
    "# 遍历预测结果，用它往df追加行\n",
    "# 这些行除了Forecast字段，其他都设为np.nan\n",
    "for i in forecast_set:\n",
    "    next_date = datetime.datetime.fromtimestamp(next_unix)\n",
    "    next_unix += one_day\n",
    "    # [np.nan for _ in range(len(df.columns) - 1)]生成不包含Forecast字段的列表\n",
    "    # 而[i]是只包含Forecast值的列表\n",
    "    # 上述两个列表拼接在一起就组成了新行，按日期追加到df的下面\n",
    "    df.loc[next_date] = [np.nan for _ in range(len(df.columns) - 1)] + [i]\n"
   ]
  },
  {
   "cell_type": "code",
   "execution_count": 10,
   "metadata": {},
   "outputs": [
    {
     "data": {
      "image/png": "[encoded data removed]",
      "text/plain": [
       "<Figure size 432x288 with 1 Axes>"
      ]
     },
     "metadata": {},
     "output_type": "display_data"
    }
   ],
   "source": [
    "# 开始绘图\n",
    "df['Adj. Close'].plot()\n",
    "df['Forecast'].plot()\n",
    "plt.legend(loc=4)\n",
    "plt.xlabel('Date')\n",
    "plt.ylabel('Price')\n",
    "plt.show()"
   ]
  },
  {
   "cell_type": "code",
   "execution_count": null,
   "metadata": {},
   "outputs": [],
   "source": []
  }
 ],
 "metadata": {
  "kernelspec": {
   "display_name": "Python 3",
   "language": "python",
   "name": "python3"
  },
  "language_info": {
   "codemirror_mode": {
    "name": "ipython",
    "version": 3
   },
   "file_extension": ".py",
   "mimetype": "text/x-python",
   "name": "python",
   "nbconvert_exporter": "python",
   "pygments_lexer": "ipython3",
   "version": "3.7.3"
  }
 },
 "nbformat": 4,
 "nbformat_minor": 4
}
