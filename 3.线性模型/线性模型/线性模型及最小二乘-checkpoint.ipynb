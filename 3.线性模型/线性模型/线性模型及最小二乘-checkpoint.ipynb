{
 "cells": [
  {
   "cell_type": "markdown",
   "metadata": {},
   "source": [
    "最小二乘"
   ]
  },
  {
   "cell_type": "code",
   "execution_count": 1,
   "metadata": {},
   "outputs": [],
   "source": [
    "import numpy as np\n",
    "import matplotlib.pyplot as plt\n",
    "from sklearn import linear_model"
   ]
  },
  {
   "cell_type": "code",
   "execution_count": 2,
   "metadata": {},
   "outputs": [],
   "source": [
    "x=np.array([[0,1],[3,-2],[2,3]])#x、y定义了三个样本数据，x变量是一个3*2数组，因此每个样本包含两个特征\n",
    "y=np.array([0.5,0.3,0.9])"
   ]
  },
  {
   "cell_type": "code",
   "execution_count": 3,
   "metadata": {},
   "outputs": [
    {
     "data": {
      "text/plain": [
       "LinearRegression(copy_X=True, fit_intercept=True, n_jobs=None, normalize=False)"
      ]
     },
     "execution_count": 3,
     "metadata": {},
     "output_type": "execute_result"
    }
   ],
   "source": [
    "# 初始化LinearRegression对象后，就可以调用其上的fit()方法进行训练\n",
    "reg=linear_model.LinearRegression()   # 最小而成法回归对象\n",
    "reg.fit(x,y)                          # 训练，拟合"
   ]
  },
  {
   "cell_type": "code",
   "execution_count": 4,
   "metadata": {},
   "outputs": [
    {
     "name": "stdout",
     "output_type": "stream",
     "text": [
      "intercep_: 0.36666666666666686\n"
     ]
    }
   ],
   "source": [
    "print(\"intercep_:\",reg.intercept_)   #读取截距"
   ]
  },
  {
   "cell_type": "code",
   "execution_count": 5,
   "metadata": {},
   "outputs": [
    {
     "name": "stdout",
     "output_type": "stream",
     "text": [
      "coef_: [0.06666667 0.13333333]\n"
     ]
    }
   ],
   "source": [
    "print(\"coef_:\",reg.coef_)           #读取回归参数"
   ]
  },
  {
   "cell_type": "code",
   "execution_count": 19,
   "metadata": {},
   "outputs": [
    {
     "data": {
      "text/plain": [
       "array([0.7       , 0.43333333])"
      ]
     },
     "execution_count": 19,
     "metadata": {},
     "output_type": "execute_result"
    }
   ],
   "source": [
    "reg.predict([[1,2],[-3,2]])     #预测\n",
    "\n",
    "# y=0.36666666666666686+0.06666667x1+0.13333333x2"
   ]
  },
  {
   "cell_type": "markdown",
   "metadata": {},
   "source": [
    "最小二乘的不足\n",
    "最小二乘可以解决线性模型回归的问题，但是随着特征维度逐渐增加，最小二乘也存在一些问题。可以采用岭回归、Lasso......"
   ]
  },
  {
   "cell_type": "markdown",
   "metadata": {},
   "source": [
    "make_data()函数用于制造50个多维特征样本数据，其中，X0是一个长为50的等差数列，X是50个nDim维度的特征，X中的每一个\n",
    "特征都与X0相关，因此，这是一组特征之间严重相关的样本。"
   ]
  },
  {
   "cell_type": "code",
   "execution_count": 10,
   "metadata": {},
   "outputs": [],
   "source": [
    "# 初始化数据\n",
    "def make_data(nDim):\n",
    "    x0 = np.linspace(1,np.pi,50)                          # 一个维度的特征\n",
    "    x = np.vstack([[x0],[i**x0 for i in range(2,nDim+1)]])     # nDim个维度的特征\n",
    "    y = np.sin(x0) + np.random.normal(0,0.15,len(x0))          #目标值\n",
    "    return x.transpose(),y        # 关键是对X转置了\n",
    "\n",
    "x,y = make_data(12)"
   ]
  },
  {
   "cell_type": "markdown",
   "metadata": {},
   "source": [
    "make_data()函数，赋值了x,y变量分别保存50个样本的12维特征与目标值。下面，分别在特征1、3、6、12的情况下进行最小二乘训练并查看模型的参数"
   ]
  },
  {
   "cell_type": "code",
   "execution_count": 11,
   "metadata": {},
   "outputs": [],
   "source": [
    "# 使用最小二乘法的结果\n",
    "def linear_regression():\n",
    "    dims = [1,3,6,12]          #要训练的维度\n",
    "\n",
    "    for idx, i in enumerate(dims):\n",
    "        plt.subplot(2,len(dims)/2,idx+1)        # 初始化子图\n",
    "        reg = linear_model.LinearRegression()\n",
    "        \n",
    "        sub_x = x[:,0:i]        # 取x中前i个维度的特征\n",
    "        reg.fit(sub_x,y)        # 训练\n",
    "        plt.plot(x[:,0],reg.predict(sub_x)) # 绘制模型曲线\n",
    "        plt.plot(x[:,0], y, '.')    # x[:,0] 的意思就是取全部行,中的第一个值 ------> 就是取第一列\n",
    "        plt.title(\"dim=%s\"%i)\n",
    "        \n",
    "        print(\"dim %d :\"%i)\n",
    "        print(\"intercept_ %s\"%(reg.intercept_,))        # 查看截距参数\n",
    "        print(\"coef: %s\"%(reg.coef_,))                  # 查看回归参数\n",
    "    plt.show()"
   ]
  },
  {
   "cell_type": "markdown",
   "metadata": {},
   "source": [
    "代码中x0的取值范围是[1,pi]，目标值由对特征x0调用sin()函数加随机噪声而来，因此期望中的模型应该是sin()曲线的{1，pi]段。"
   ]
  },
  {
   "cell_type": "code",
   "execution_count": 12,
   "metadata": {},
   "outputs": [
    {
     "name": "stdout",
     "output_type": "stream",
     "text": [
      "dim 1 :\n",
      "intercept_ 1.6605071908141646\n",
      "coef: [-0.44555498]\n",
      "dim 3 :\n",
      "intercept_ 1.7148617669006958\n",
      "coef: [ 2.0338968  -1.75768412  0.23875716]\n",
      "dim 6 :\n",
      "intercept_ 423.2165282719326\n",
      "coef: [ 202.16744682 -981.73183022 1066.79753741 -789.09120737  328.98476998\n",
      "  -58.3355302 ]\n",
      "dim 12 :\n",
      "intercept_ 32081804.649138983\n",
      "coef: [ 7.27963920e+06 -2.41345393e+08  1.25925494e+09 -4.15563299e+09\n",
      "  8.36881916e+09 -9.62997963e+09  3.99343990e+09  4.92177694e+09\n",
      " -8.96254675e+09  6.32388344e+09 -2.23672595e+09  3.26971277e+08]\n"
     ]
    },
    {
     "data": {
      "image/png": "[encoded data removed]",
      "text/plain": [
       "<Figure size 432x288 with 4 Axes>"
      ]
     },
     "metadata": {
      "needs_background": "light"
     },
     "output_type": "display_data"
    }
   ],
   "source": [
    "linear_regression()"
   ]
  },
  {
   "cell_type": "markdown",
   "metadata": {},
   "source": [
    "分析上图：dim=1时，模型是直线，存在拟合不足；3和6时，比较接近sin()曲线的{1，pi]段；12时，曲线过于弯曲，存在过度拟合。"
   ]
  },
  {
   "cell_type": "markdown",
   "metadata": {},
   "source": [
    "alpha的取值并没有一定之规。alpha的最佳设置取决与我们使用的特定数据集。增加alpha的值会降低特征变量的系数，使其趋于零，从而降低训练集的性能，但更有助于泛化。"
   ]
  },
  {
   "cell_type": "markdown",
   "metadata": {},
   "source": [
    "存在问题：随着特征维度的增加，模型求得的参数w0,w1,....,wn的值显著增加，产生的原因就是最小二乘的公式"
   ]
  },
  {
   "cell_type": "markdown",
   "metadata": {},
   "source": [
    "岭回归"
   ]
  },
  {
   "cell_type": "code",
   "execution_count": 14,
   "metadata": {},
   "outputs": [
    {
     "name": "stdout",
     "output_type": "stream",
     "text": [
      "alpha 1.000000e-15\n",
      "intercept_ 82139.60929779177\n",
      "coef_: [  25909.64238974 -292379.67147465  544954.52343478 -464631.3543044\n",
      " -144740.48376236  451127.90516462   92636.08768785 -445460.94893113\n",
      "  -72519.70672217  527904.7616863  -356623.87671437   77419.58838881]\n",
      "alpha 1.000000e-12\n",
      "intercept_ 12099.434075087584\n",
      "coef_: [  4523.83676059 -31746.62367665  32756.97451266  -2068.25892708\n",
      " -22302.36900304  -1468.09893359  17771.93522678   8366.58996139\n",
      " -13515.3178129  -12248.92541767  17448.45778099  -5162.40454343]\n",
      "alpha 1.000000e-05\n",
      "intercept_ 14.930875858463091\n",
      "coef_: [ 17.91454163 -10.41461179 -14.47431485  -2.48086985   8.49926229\n",
      "   9.07294533   0.98717527  -7.51951143  -8.13000498   1.27532419\n",
      "  11.01719167  -5.18450203]\n",
      "alpha 1.000000e+00\n",
      "intercept_ 0.9191436412007415\n",
      "coef_: [ 0.01347769  0.01038495  0.01437839  0.01383636  0.01041758  0.00531587\n",
      " -0.00043416 -0.00571118 -0.0091479  -0.00903387 -0.00325884  0.01071796]\n"
     ]
    },
    {
     "data": {
      "image/png": "[encoded data removed]",
      "text/plain": [
       "<Figure size 432x288 with 4 Axes>"
      ]
     },
     "metadata": {
      "needs_background": "light"
     },
     "output_type": "display_data"
    }
   ],
   "source": [
    "# 使用岭回归，采用上例12维度\n",
    "def ridge_regression():\n",
    "    alphas = [1e-15,1e-12,1e-5,1]    # a参数\n",
    "\n",
    "    for idx,i in enumerate(alphas):\n",
    "        plt.subplot(2, len(alphas)/2, idx+1)  # 初始化子图\n",
    "        reg = linear_model.Ridge(alpha=i)  # 岭回归模型\n",
    "\n",
    "        sub_x = x[:,0:12]   # 抽取全部12维的特征\n",
    "        reg.fit(sub_x,y)    # 训练\n",
    "        plt.plot(x[:,0], reg.predict(sub_x))\n",
    "        plt.plot(x[:,0], y, '.')\n",
    "        plt.title(\"dim=12,alpha=%e\"%i)\n",
    "\n",
    "        print(\"alpha %e\"%i)\n",
    "        print(\"intercept_ %s\"% (reg.intercept_))\n",
    "        print(\"coef_: %s\"% (reg.coef_))\n",
    "    plt.show()\n",
    "\n",
    "ridge_regression()"
   ]
  },
  {
   "cell_type": "markdown",
   "metadata": {},
   "source": [
    "Lasso回归"
   ]
  },
  {
   "cell_type": "code",
   "execution_count": 38,
   "metadata": {},
   "outputs": [
    {
     "name": "stderr",
     "output_type": "stream",
     "text": [
      "C:\\Users\\rosehyr\\Anaconda3\\lib\\site-packages\\sklearn\\linear_model\\coordinate_descent.py:475: ConvergenceWarning: Objective did not converge. You might want to increase the number of iterations. Duality gap: 0.6834261890684575, tolerance: 0.0006114492229514142\n",
      "  positive)\n",
      "C:\\Users\\rosehyr\\Anaconda3\\lib\\site-packages\\sklearn\\linear_model\\coordinate_descent.py:475: ConvergenceWarning: Objective did not converge. You might want to increase the number of iterations. Duality gap: 0.7483674504549864, tolerance: 0.0006114492229514142\n",
      "  positive)\n"
     ]
    },
    {
     "name": "stdout",
     "output_type": "stream",
     "text": [
      "alpha 1.000000e-10\n",
      "intercept_ :\n",
      "coef_: [ 2.20561106e+00 -8.56513947e-01 -6.31097341e-02 -7.51317508e-03\n",
      " -2.06503671e-04  8.17290281e-04  7.98469494e-04  6.27622374e-04\n",
      "  4.70572636e-04  3.50705998e-04  2.63302228e-04  2.00052996e-04]\n",
      "alpha 1.000000e-03\n",
      "intercept_ :\n",
      "coef_: [ 1.51012052e+00 -2.30301378e-01 -1.44769937e-01 -1.62898377e-02\n",
      " -1.69162321e-03  2.57631018e-04  9.14722701e-04  7.42515354e-04\n",
      "  5.63310017e-04  4.22036385e-04  3.17603688e-04  2.41490791e-04]\n",
      "alpha 1.000000e+00\n",
      "intercept_ :\n",
      "coef_: [-0.         -0.         -0.         -0.         -0.         -0.\n",
      " -0.         -0.         -0.00109241 -0.         -0.         -0.        ]\n",
      "alpha 1.000000e+01\n",
      "intercept_ :\n",
      "coef_: [-0.         -0.         -0.         -0.         -0.         -0.\n",
      " -0.         -0.         -0.         -0.         -0.         -0.00042608]\n"
     ]
    },
    {
     "data": {
      "image/png": "[encoded data removed]",
      "text/plain": [
       "<Figure size 432x288 with 4 Axes>"
      ]
     },
     "metadata": {
      "needs_background": "light"
     },
     "output_type": "display_data"
    }
   ],
   "source": [
    "def lasso_regression():\n",
    "    alphas = [1e-10,1e-3,1,10]       # a列表\n",
    "    for idx,i in enumerate(alphas):\n",
    "        plt.subplot(2,len(alphas)/2,idx+1)\n",
    "        reg = linear_model.Lasso(alpha = i)    # 初始化Lasso对象\n",
    "        sub_x = x[:,0:12]                      # 取全部12维的特征\n",
    "        reg.fit(sub_x,y)                       # 进行训练\n",
    "        plt.plot(x[:,0],reg.predict(sub_x))\n",
    "        plt.plot(x[:,0],y,'.')\n",
    "        plt.title(\"dim=12,alpha=%e\"%i)\n",
    "\n",
    "        print(\"alpha %e\"%i)\n",
    "        print(\"intercept_ :\"% (reg.intercept_))\n",
    "        print(\"coef_: %s\"% (reg.coef_))\n",
    "    plt.show()\n",
    "\n",
    "lasso_regression()"
   ]
  },
  {
   "cell_type": "markdown",
   "metadata": {},
   "source": [
    "Python range() 函数用法"
   ]
  },
  {
   "cell_type": "markdown",
   "metadata": {},
   "source": [
    "range() 函数可创建一个整数列表，一般用在 for 循环中。\n",
    "函数语法:range(start, stop[,step])\n",
    "参数说明：\n",
    "start: 计数从 start 开始。默认是从 0 开始。例如range（5）等价于range（0， 5）;\n",
    "stop: 计数到 stop 结束，但不包括 stop。例如：range（0， 5） 是[0, 1, 2, 3, 4]没有5\n",
    "step：步长，默认为1。例如：range（0， 5） 等价于 range(0, 5, 1)"
   ]
  },
  {
   "cell_type": "code",
   "execution_count": 47,
   "metadata": {},
   "outputs": [
    {
     "name": "stdout",
     "output_type": "stream",
     "text": [
      "this is count 1\n",
      "this is count 2\n",
      "this is count 3\n",
      "this is count 4\n",
      "this is count 5\n",
      "this is count 6\n",
      "--------------------\n"
     ]
    }
   ],
   "source": [
    "#1、下面遍历一个列表\n",
    "the_count=[1,2,3,4,5,6]\n",
    "for number in the_count:\n",
    "    print(\"this is count %d\" % number)\n",
    "print(\"--------------------\")"
   ]
  },
  {
   "cell_type": "code",
   "execution_count": 48,
   "metadata": {},
   "outputs": [
    {
     "name": "stdout",
     "output_type": "stream",
     "text": [
      "1、2、3、4、zll、5、6、hello、7、8.9、\n",
      "--------------------\n"
     ]
    }
   ],
   "source": [
    "#2、遍历一个混合列表\n",
    "list=[1,2,3,4,\"zll\",5,6,\"hello\",7,8.9]\n",
    "for i in range(len(list)):\n",
    "    print (list[i],end=\"、\")\n",
    "print(\"\\n--------------------\")"
   ]
  },
  {
   "cell_type": "code",
   "execution_count": 49,
   "metadata": {},
   "outputs": [
    {
     "name": "stdout",
     "output_type": "stream",
     "text": [
      "0、1、2、3、4、\n",
      "--------------------\n"
     ]
    }
   ],
   "source": [
    "#3、用range()函数生成一个列表\n",
    "for i in range(5):\n",
    "    print(i,end=\"、\")\n",
    "print(\"\\n--------------------\")"
   ]
  },
  {
   "cell_type": "code",
   "execution_count": 50,
   "metadata": {},
   "outputs": [
    {
     "name": "stdout",
     "output_type": "stream",
     "text": [
      "range(10)表示： range(0, 10)\n",
      "[0, 1, 2, 3, 4, 5, 6, 7, 8, 9]\n",
      "--------------------\n"
     ]
    }
   ],
   "source": [
    "#4、range(10),其中参数10代表：从0到10的一个序列，当然不包含10\n",
    "print(\"range(10)表示：\" ,range(10))\n",
    "listA=[i for i in range(10)]\n",
    "print(listA)\n",
    "print(\"--------------------\")"
   ]
  },
  {
   "cell_type": "code",
   "execution_count": 51,
   "metadata": {},
   "outputs": [
    {
     "name": "stdout",
     "output_type": "stream",
     "text": [
      "range(5,100)表示 range(5, 100)\n",
      "[5, 6, 7, 8, 9, 10, 11, 12, 13, 14, 15, 16, 17, 18, 19, 20, 21, 22, 23, 24, 25, 26, 27, 28, 29, 30, 31, 32, 33, 34, 35, 36, 37, 38, 39, 40, 41, 42, 43, 44, 45, 46, 47, 48, 49, 50, 51, 52, 53, 54, 55, 56, 57, 58, 59, 60, 61, 62, 63, 64, 65, 66, 67, 68, 69, 70, 71, 72, 73, 74, 75, 76, 77, 78, 79, 80, 81, 82, 83, 84, 85, 86, 87, 88, 89, 90, 91, 92, 93, 94, 95, 96, 97, 98, 99]\n",
      "--------------------\n"
     ]
    }
   ],
   "source": [
    "#5、我们也可以自定义起始点和结束点\n",
    "#我们定义了一个从5开始的起始点，到100结束的结束点\n",
    "print(\"range(5,100)表示\",range(5,100))\n",
    "listB=[i for i in range(5,100)]\n",
    "print(listB)\n",
    "print(\"--------------------\")"
   ]
  },
  {
   "cell_type": "code",
   "execution_count": 52,
   "metadata": {},
   "outputs": [
    {
     "name": "stdout",
     "output_type": "stream",
     "text": [
      "range(1,30,3)表示： range(1, 30, 3)\n",
      "[1, 4, 7, 10, 13, 16, 19, 22, 25, 28]\n"
     ]
    }
   ],
   "source": [
    "#6、定义了这些后，我们还可以定义步长\n",
    "#我们定义一个从1开始到30结束，步长为3的列表\n",
    "print('range(1,30,3)表示：',range(1,30,3))\n",
    "listC = [i for i in range(1,30,3)]\n",
    "print(listC)"
   ]
  },
  {
   "cell_type": "markdown",
   "metadata": {},
   "source": [
    "enumerate在字典上是枚举、列举的意思\n",
    "对于一个可迭代的（iterable）/可遍历的对象（如列表、字符串），enumerate将其组成一个索引序列，利用它可以同时获得索引和值\n",
    "enumerate多用于在for循环中得到计数\n",
    "例如对于一个seq，得到：(0, seq[0]), (1, seq[1]), (2, seq[2])\n",
    "\n",
    "enumerate() 函数用于将一个可遍历的数据对象(如列表、元组或字符串)组合为一个索引序列，同时列出数据和数据下标，一般用在 for 循环当中\n",
    "enumerate(sequence,[start=0])\n",
    "参数\n",
    "sequence 一个序列、迭代器或其他支持迭代的对象 （string、list 和 tuple 都属于 sequence（序列））\n",
    "start 下标起始位置。默认为0\n",
    "返回值\n",
    "返回enumerate对象"
   ]
  },
  {
   "cell_type": "code",
   "execution_count": 54,
   "metadata": {},
   "outputs": [
    {
     "name": "stdout",
     "output_type": "stream",
     "text": [
      "[(0, 11), (1, 22), (2, 33), (3, 44), (4, 55)]\n"
     ]
    }
   ],
   "source": [
    "l1 = [11,22,33,44,55]\n",
    "em = enumerate(l1)\n",
    "l2 = [i for i in em]\n",
    "print(l2)"
   ]
  },
  {
   "cell_type": "code",
   "execution_count": 55,
   "metadata": {},
   "outputs": [
    {
     "name": "stdout",
     "output_type": "stream",
     "text": [
      "[(100, 11), (101, 22), (102, 33), (103, 44), (104, 55)]\n"
     ]
    }
   ],
   "source": [
    "l1 = [11,22,33,44,55]\n",
    "em = enumerate(l1,start = 100)\n",
    "l2 = [ i for i in em]\n",
    "print(l2)"
   ]
  },
  {
   "cell_type": "code",
   "execution_count": 57,
   "metadata": {},
   "outputs": [
    {
     "name": "stdout",
     "output_type": "stream",
     "text": [
      "0 这\n",
      "1 是\n",
      "2 一个\n",
      "3 测试\n"
     ]
    }
   ],
   "source": [
    "list1 = [\"这\", \"是\", \"一个\", \"测试\"]\n",
    "for index, item in enumerate(list1):\n",
    "    print (index, item)\n"
   ]
  },
  {
   "cell_type": "code",
   "execution_count": null,
   "metadata": {},
   "outputs": [],
   "source": []
  }
 ],
 "metadata": {
  "kernelspec": {
   "display_name": "Python 3",
   "language": "python",
   "name": "python3"
  },
  "language_info": {
   "codemirror_mode": {
    "name": "ipython",
    "version": 3
   },
   "file_extension": ".py",
   "mimetype": "text/x-python",
   "name": "python",
   "nbconvert_exporter": "python",
   "pygments_lexer": "ipython3",
   "version": "3.7.3"
  }
 },
 "nbformat": 4,
 "nbformat_minor": 2
}
