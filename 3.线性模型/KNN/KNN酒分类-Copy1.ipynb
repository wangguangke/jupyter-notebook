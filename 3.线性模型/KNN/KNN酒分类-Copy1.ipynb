{
 "cells": [
  {
   "cell_type": "code",
   "execution_count": 8,
   "metadata": {},
   "outputs": [],
   "source": [
    "from sklearn.datasets import load_wine\n",
    "#从sklearn的datasets模块载入数据集\n",
    "wine_dataset = load_wine()\n",
    "#实际上load_wine()函数载入的数据集是一种Bunch对象，它包括keys和values"
   ]
  },
  {
   "cell_type": "code",
   "execution_count": 9,
   "metadata": {},
   "outputs": [
    {
     "name": "stdout",
     "output_type": "stream",
     "text": [
      "\n",
      "\n",
      "\n",
      "\n",
      "代码运行结果:\n",
      "====================================\n",
      "红酒数据集中的键:\n",
      "dict_keys(['data', 'target', 'target_names', 'DESCR', 'feature_names'])\n",
      "====================================\n",
      "\n",
      "\n",
      "\n",
      "\n"
     ]
    }
   ],
   "source": [
    "#打印酒数据集中的键\n",
    "print('\\n\\n\\n')\n",
    "print('代码运行结果:')\n",
    "print('====================================')\n",
    "print('红酒数据集中的键:\\n{}'.format(wine_dataset.keys()))\n",
    "print('====================================')\n",
    "print('\\n\\n\\n')"
   ]
  },
  {
   "cell_type": "code",
   "execution_count": 10,
   "metadata": {},
   "outputs": [
    {
     "name": "stdout",
     "output_type": "stream",
     "text": [
      "\n",
      "\n",
      "\n",
      "\n",
      "代码运行结果:\n",
      "====================================\n",
      "数据概况:(178, 13)\n",
      "====================================\n",
      "\n",
      "\n",
      "\n",
      "\n"
     ]
    }
   ],
   "source": [
    "#使用.shape来打印数据的概况\n",
    "print('\\n\\n\\n')\n",
    "print('代码运行结果:')\n",
    "print('====================================')\n",
    "print('数据概况:{}'.format(wine_dataset['data'].shape))\n",
    "print('====================================')\n",
    "print('\\n\\n\\n')"
   ]
  },
  {
   "cell_type": "code",
   "execution_count": 11,
   "metadata": {},
   "outputs": [
    {
     "name": "stdout",
     "output_type": "stream",
     "text": [
      ".. _wine_dataset:\n",
      "\n",
      "Wine recognition dataset\n",
      "------------------------\n",
      "\n",
      "**Data Set Characteristics:**\n",
      "\n",
      "    :Number of Instances: 178 (50 in each of three classes)\n",
      "    :Number of Attributes: 13 numeric, predictive attributes and the class\n",
      "    :Attribute Information:\n",
      " \t\t- Alcohol\n",
      " \t\t- Malic acid\n",
      " \t\t- Ash\n",
      "\t\t- Alcalinity of ash  \n",
      " \t\t- Magnesium\n",
      "\t\t- Total phenols\n",
      " \t\t- Flavanoids\n",
      " \t\t- Nonflavanoid phenols\n",
      " \t\t- Proanthocyanins\n",
      "\t\t- Color intensity\n",
      " \t\t- Hue\n",
      " \t\t- OD280/OD315 of diluted wines\n",
      " \t\t- Proline\n",
      "\n",
      "    - class:\n",
      "            - class_0\n",
      "            - class_1\n",
      "            - class_2\n",
      "\t\t\n",
      "    :Summary Statistics:\n",
      "    \n",
      "    ============================= ==== ===== ======= =====\n",
      "                                   Min   Max   Mean     SD\n",
      "    ============================= ==== ===== ======= =====\n",
      "    Alcohol:                      11.0  14.8    13.0   0.8\n",
      "    Malic Acid:                   0.74  5.80    2.34  1.12\n",
      "    Ash:                          1.36  3.23    2.36  0.27\n",
      "    Alcalinity of Ash:            10.6  30.0    19.5   3.3\n",
      "    Magnesium:                    70.0 162.0    99.7  14.3\n",
      "    Total Phenols:                0.98  3.88    2.29  0.63\n",
      "    Flavanoids:                   0.34  5.08    2.03  1.00\n",
      "    Nonflavanoid Phenols:         0.13  0.66    0.36  0.12\n",
      "    Proanthocyanins:              0.41  3.58    1.59  0.57\n",
      "    Colour Intensity:              1.3  13.0     5.1   2.3\n",
      "    Hue:                          0.48  1.71    0.96  0.23\n",
      "    OD280/OD315 of diluted wines: 1.27  4.00    2.61  0.71\n",
      "    Proline:                       278  1680     746   315\n",
      "    ============================= ==== ===== ======= =====\n",
      "\n",
      "    :Missing Attribute Values: None\n",
      "    :Class Distribution: class_0 (59), class_1 (71), class_2 (48)\n",
      "    :Creator: R.A. Fisher\n",
      "    :Donor: Michael Marshall (MARSHALL%PLU@io.arc.nasa.gov)\n",
      "    :Date: July, 1988\n",
      "\n",
      "This is a copy of UCI ML Wine recognition datasets.\n",
      "https://archive.ics.uci.edu/ml/machine-learning-databases/wine/wine.data\n",
      "\n",
      "The data is the results of a chemical analysis of wines grown in the same\n",
      "region in Italy by three different cultivators. There are thirteen different\n",
      "measurements taken for different constituents found in the three types of\n",
      "wine.\n",
      "\n",
      "Original Owners: \n",
      "\n",
      "Forina, M. et al, PARVUS - \n",
      "An Extendible Package for Data Exploration, Classification and Correlation. \n",
      "Institute of Pharmaceutical and Food Analysis and Technologies,\n",
      "Via Brigata Salerno, 16147 Genoa, Italy.\n",
      "\n",
      "Citation:\n",
      "\n",
      "Lichman, M. (2013). UCI Machine Learning Repository\n",
      "[https://archive.ics.uci.edu/ml]. Irvine, CA: University of California,\n",
      "School of Information and Computer Science. \n",
      "\n",
      ".. topic:: References\n",
      "\n",
      "  (1) S. Aeberhard, D. Coomans and O. de Vel, \n",
      "  Comparison of Classifiers in High Dimensional Settings, \n",
      "  Tech. Rep. no. 92-02, (1992), Dept. of Computer Science and Dept. of  \n",
      "  Mathematics and Statistics, James Cook University of North Queensland. \n",
      "  (Also submitted to Technometrics). \n",
      "\n",
      "  The data was used with many others for comparing various \n",
      "  classifiers. The classes are separable, though only RDA \n",
      "  has achieved 100% correct classification. \n",
      "  (RDA : 100%, QDA 99.4%, LDA 98.9%, 1NN 96.1% (z-transformed data)) \n",
      "  (All results using the leave-one-out technique) \n",
      "\n",
      "  (2) S. Aeberhard, D. Coomans and O. de Vel, \n",
      "  \"THE CLASSIFICATION PERFORMANCE OF RDA\" \n",
      "  Tech. Rep. no. 92-01, (1992), Dept. of Computer Science and Dept. of \n",
      "  Mathematics and Statistics, James Cook University of North Queensland. \n",
      "  (Also submitted to Journal of Chemometrics).\n",
      "\n"
     ]
    }
   ],
   "source": [
    "#打印酒的数据集中的简短描述\n",
    "print(wine_dataset['DESCR'])"
   ]
  },
  {
   "cell_type": "code",
   "execution_count": 12,
   "metadata": {},
   "outputs": [],
   "source": [
    "#导入数据集拆分工具\n",
    "from sklearn.model_selection import train_test_split\n",
    "#将数据集拆分为训练数据集和测试数据集\n",
    "X_train,X_test,y_train,y_test = train_test_split(wine_dataset['data'],wine_dataset['target'],random_state=0)"
   ]
  },
  {
   "cell_type": "code",
   "execution_count": 13,
   "metadata": {},
   "outputs": [
    {
     "name": "stdout",
     "output_type": "stream",
     "text": [
      "\n",
      "\n",
      "\n",
      "\n",
      "代码运行结果:\n",
      "====================================\n",
      "X_train shape:(133, 13)\n",
      "X_train shape:(45, 13)\n",
      "X_train shape:(133,)\n",
      "X_train shape:(45,)\n",
      "====================================\n",
      "\n",
      "\n",
      "\n",
      "\n"
     ]
    }
   ],
   "source": [
    "print('\\n\\n\\n')\n",
    "print('代码运行结果:')\n",
    "print('====================================')\n",
    "#打印训练数据集中特征向量的形态\n",
    "print('X_train shape:{}'.format(X_train.shape))\n",
    "#打印测试数据集中特征向量的形态\n",
    "print('X_train shape:{}'.format(X_test.shape))\n",
    "#打印训练数据集中特征向量的形态\n",
    "print('X_train shape:{}'.format(y_train.shape))\n",
    "#打印测试数据集中特征向量的形态\n",
    "print('X_train shape:{}'.format(y_test.shape))\n",
    "print('====================================')\n",
    "print('\\n\\n\\n')"
   ]
  },
  {
   "cell_type": "code",
   "execution_count": 14,
   "metadata": {},
   "outputs": [],
   "source": [
    "#生成训练数据集和测试数据集\n",
    "#导入数据集拆分工具\n",
    "from sklearn.model_selection import train_test_split\n",
    "#将数据集拆分为训练数据集和测试数据集\n",
    "x_train, x_test, y_train, y_test = train_test_split(wine_dataset['data'], wine_dataset['target'], random_state=0)"
   ]
  },
  {
   "cell_type": "code",
   "execution_count": 16,
   "metadata": {},
   "outputs": [
    {
     "name": "stdout",
     "output_type": "stream",
     "text": [
      "\n",
      "\n",
      "\n",
      "\n",
      "代码运行结果:\n",
      "====================================\n",
      "X_train shape:(133, 13)\n",
      "X_train shape:(45, 13)\n",
      "X_train shape:(133,)\n",
      "X_train shape:(45,)\n",
      "====================================\n",
      "\n",
      "\n",
      "\n",
      "\n"
     ]
    }
   ],
   "source": [
    "print('\\n\\n\\n')\n",
    "print('代码运行结果:')\n",
    "print('====================================')\n",
    "#打印训练数据集中特征向量的形态\n",
    "print('X_train shape:{}'.format(X_train.shape))\n",
    "#打印测试数据集中特征向量的形态\n",
    "print('X_train shape:{}'.format(X_test.shape))\n",
    "#打印训练数据集中特征向量的形态\n",
    "print('X_train shape:{}'.format(y_train.shape))\n",
    "#打印测试数据集中特征向量的形态\n",
    "print('X_train shape:{}'.format(y_test.shape))\n",
    "print('====================================')\n",
    "print('\\n\\n\\n')"
   ]
  },
  {
   "cell_type": "code",
   "execution_count": 17,
   "metadata": {},
   "outputs": [],
   "source": [
    "#使用KNN进行建模\n",
    "#导入KNN分类模型\n",
    "from sklearn.neighbors import KNeighborsClassifier\n",
    "#指定模型的n_neighbors参数值为1\n",
    "knn = KNeighborsClassifier(n_neighbors = 1)\n",
    "#接下来我们要使用knn对象中称为拟合(fit)的方法来进行建模，建模的 依据就是x_train和y_train"
   ]
  },
  {
   "cell_type": "code",
   "execution_count": 18,
   "metadata": {},
   "outputs": [
    {
     "name": "stdout",
     "output_type": "stream",
     "text": [
      "\n",
      "\n",
      "\n",
      "\n",
      "代码运行结果:\n",
      "====================================\n",
      "KNeighborsClassifier(algorithm='auto', leaf_size=30, metric='minkowski',\n",
      "                     metric_params=None, n_jobs=None, n_neighbors=1, p=2,\n",
      "                     weights='uniform')\n",
      "====================================\n",
      "\n",
      "\n",
      "\n",
      "\n"
     ]
    }
   ],
   "source": [
    "#接下来使用knn方法中的\"fit()\"(拟合)方法来进行建模\n",
    "print('\\n\\n\\n')\n",
    "print('代码运行结果:')\n",
    "print('====================================')\n",
    "#用模型对数据进行拟合\n",
    "knn.fit(X_train,y_train)\n",
    "print(knn)\n",
    "print('====================================')\n",
    "print('\\n\\n\\n')"
   ]
  },
  {
   "cell_type": "code",
   "execution_count": 21,
   "metadata": {},
   "outputs": [
    {
     "name": "stdout",
     "output_type": "stream",
     "text": [
      "\n",
      "\n",
      "\n",
      "\n",
      "代码运行结果:\n",
      "====================================\n",
      "测试数据集得分:0.76\n",
      "====================================\n",
      "\n",
      "\n",
      "\n",
      "\n"
     ]
    }
   ],
   "source": [
    "#训练好了模型,接下来我们使用模型对新样本的分类进行预测\n",
    "#先来看一下模型的评分:0.76(不算好,也不算差,只进行测试K最近邻算法,权且消遣)\n",
    "#在这之前先用测试数据集对模型进行打分\n",
    "print('\\n\\n\\n')\n",
    "print('代码运行结果:')\n",
    "print('====================================')\n",
    "#打印模型的得分\n",
    "print('测试数据集得分:{:.2f}'.format(knn.score(X_test,y_test)))\n",
    "print('====================================')\n",
    "print('\\n\\n\\n')"
   ]
  },
  {
   "cell_type": "code",
   "execution_count": 22,
   "metadata": {},
   "outputs": [
    {
     "name": "stdout",
     "output_type": "stream",
     "text": [
      "\n",
      "\n",
      "\n",
      "\n",
      "代码运行结果:\n",
      "====================================\n",
      "预测新红酒的分类为:['class_2']\n",
      "====================================\n",
      "\n",
      "\n",
      "\n",
      "\n"
     ]
    }
   ],
   "source": [
    "#下面我们用建好的模型对新酒做出分类预测\n",
    "import numpy as np\n",
    "#输入新的数据点\n",
    "x_new = np.array([[13.2, 2.77, 2.51, 18.5, 96.6, 1.04, 2.55, 0.57, 1.47, 6.2, 1.05, 3.33, 820]])\n",
    "#使用predict()进行预测\n",
    "prediction = knn.predict(x_new)\n",
    "#接下来看新酒属于哪个分类\n",
    "print('\\n\\n\\n')\n",
    "print('代码运行结果:')\n",
    "print('====================================')\n",
    "print('预测新红酒的分类为:{}'.format(wine_dataset['target_names'][prediction]))\n",
    "print('====================================')\n",
    "print('\\n\\n\\n')"
   ]
  },
  {
   "cell_type": "code",
   "execution_count": null,
   "metadata": {},
   "outputs": [],
   "source": []
  }
 ],
 "metadata": {
  "kernelspec": {
   "display_name": "Python 3",
   "language": "python",
   "name": "python3"
  },
  "language_info": {
   "codemirror_mode": {
    "name": "ipython",
    "version": 3
   },
   "file_extension": ".py",
   "mimetype": "text/x-python",
   "name": "python",
   "nbconvert_exporter": "python",
   "pygments_lexer": "ipython3",
   "version": "3.7.3"
  }
 },
 "nbformat": 4,
 "nbformat_minor": 2
}
