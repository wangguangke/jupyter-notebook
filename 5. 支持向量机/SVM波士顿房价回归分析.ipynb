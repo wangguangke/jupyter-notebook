{
 "cells": [
  {
   "cell_type": "code",
   "execution_count": 2,
   "metadata": {},
   "outputs": [
    {
     "name": "stdout",
     "output_type": "stream",
     "text": [
      "dict_keys(['data', 'target', 'feature_names', 'DESCR', 'filename'])\n"
     ]
    }
   ],
   "source": [
    "#导入波士顿房价数据集\n",
    "#############################  svm实例--波士顿房价回归分析 #######################################\n",
    "#导入numpy\n",
    "import numpy as np\n",
    "#导入画图工具\n",
    "import matplotlib.pyplot as plt\n",
    "#导入波士顿房价数据集\n",
    "from sklearn.datasets import load_boston\n",
    "boston = load_boston()\n",
    "#打印数据集中的键\n",
    "print(boston.keys())\n",
    " \n",
    "#打印数据集中的短描述\n",
    "#print(boston['DESCR'])"
   ]
  },
  {
   "cell_type": "code",
   "execution_count": 2,
   "metadata": {},
   "outputs": [
    {
     "name": "stdout",
     "output_type": "stream",
     "text": [
      "\n",
      "\n",
      "\n",
      "\n",
      "代码运行结果\n",
      "====================================\n",
      "\n",
      "(379, 13)\n",
      "(127, 13)\n",
      "\n",
      "====================================\n",
      "\n",
      "\n",
      "\n",
      "\n"
     ]
    }
   ],
   "source": [
    "#使用SVR进行建模\n",
    "#导入数据集拆分工具\n",
    "from sklearn.model_selection import train_test_split\n",
    "#建立训练数据集和测试数据集\n",
    "X,y = boston.data,boston.target\n",
    "X_train,X_test,y_train,y_test = train_test_split(X,y,random_state=8)\n",
    "print('\\n\\n\\n')\n",
    "print('代码运行结果')\n",
    "print('====================================\\n')\n",
    "#打印训练集和测试集的形态\n",
    "print(X_train.shape)\n",
    "print(X_test.shape)\n",
    "print('\\n====================================')\n",
    "print('\\n\\n\\n')"
   ]
  },
  {
   "cell_type": "code",
   "execution_count": 3,
   "metadata": {},
   "outputs": [
    {
     "name": "stdout",
     "output_type": "stream",
     "text": [
      "linear 核函数的模型训练集得分: 0.709\n",
      "linear 核函数的模型测试集得分: 0.696\n",
      "rbf 核函数的模型训练集得分: 0.145\n",
      "rbf 核函数的模型测试集得分: 0.001\n"
     ]
    }
   ],
   "source": [
    "#导入支持向量机回归模型\n",
    "from sklearn.svm import SVR\n",
    "#分别测试linear核函数和rbf核函数\n",
    "for kernel in ['linear','rbf']:\n",
    "    svr = SVR(kernel = kernel,gamma = 'auto')\n",
    "    svr.fit(X_train,y_train)\n",
    "    print(kernel,'核函数的模型训练集得分: {:.3f}'.format(svr.score(X_train,y_train)))\n",
    "    print(kernel,'核函数的模型测试集得分: {:.3f}'.format(svr.score(X_test,y_test)))"
   ]
  },
  {
   "cell_type": "code",
   "execution_count": 4,
   "metadata": {},
   "outputs": [
    {
     "data": {
      "image/png": "[encoded data removed]",
      "text/plain": [
       "<Figure size 432x288 with 1 Axes>"
      ]
     },
     "metadata": {
      "needs_background": "light"
     },
     "output_type": "display_data"
    }
   ],
   "source": [
    "#将特征数值中的最小值和最大值用散点画出来\n",
    "plt.plot(X.min(axis=0),'v',label='min')\n",
    "plt.plot(X.max(axis=0),'^',label='max')\n",
    "#设定纵坐标为对数形式\n",
    "plt.yscale('log')\n",
    "#设置图注位置为最佳\n",
    "plt.legend(loc='best')\n",
    "#设定横纵轴标题\n",
    "plt.xlabel('features')\n",
    "plt.ylabel('feature magnitude')\n",
    "#显示图形\n",
    "plt.show()"
   ]
  },
  {
   "cell_type": "code",
   "execution_count": 5,
   "metadata": {},
   "outputs": [
    {
     "data": {
      "image/png": "[encoded data removed]",
      "text/plain": [
       "<Figure size 432x288 with 1 Axes>"
      ]
     },
     "metadata": {
      "needs_background": "light"
     },
     "output_type": "display_data"
    }
   ],
   "source": [
    "#用StandardScaler进行数据预处理\n",
    "#导入数据预处理工具\n",
    "from sklearn.preprocessing import StandardScaler\n",
    "#对训练集和测试集进行数据预处理\n",
    "scaler = StandardScaler()\n",
    "scaler.fit(X_train)\n",
    "X_train_scaled = scaler.transform(X_train)\n",
    "X_test_scaled = scaler.transform(X_test)\n",
    " \n",
    "#将预处理后的数据特征最大值和最小值用散点图表示出来\n",
    " \n",
    "plt.plot(X_train_scaled.min(axis=0),'v',label='train set min')\n",
    "plt.plot(X_train_scaled.max(axis=0),'^',label='train set max')\n",
    "plt.plot(X_test_scaled.min(axis=0),'v',label='test set min')\n",
    "plt.plot(X_test_scaled.max(axis=0),'^',label='test set max')\n",
    " \n",
    "#设置图注位置为最佳\n",
    "plt.legend(loc='best')\n",
    "#设定横纵轴标题\n",
    "plt.xlabel('scaled features')\n",
    "plt.ylabel('scaled feature magnitude')\n",
    "#显示图形\n",
    "plt.show()"
   ]
  },
  {
   "cell_type": "code",
   "execution_count": 6,
   "metadata": {},
   "outputs": [
    {
     "name": "stdout",
     "output_type": "stream",
     "text": [
      "数据预处理后 linear 核函数的模型训练集得分: 0.706\n",
      "数据预处理后 linear 核函数的模型测试集得分: 0.698\n",
      "数据预处理后 rbf 核函数的模型训练集得分: 0.665\n",
      "数据预处理后 rbf 核函数的模型测试集得分: 0.695\n"
     ]
    }
   ],
   "source": [
    "#数据预处理后重新训练模型\n",
    "#用预处理后的数据重新训练模型\n",
    "for kernel in ['linear','rbf']:\n",
    "    svr = SVR(kernel = kernel)\n",
    "    svr.fit(X_train_scaled,y_train)\n",
    "    print('数据预处理后',kernel,'核函数的模型训练集得分: {:.3f}'.format(svr.score(X_train_scaled,y_train)))\n",
    "    print('数据预处理后',kernel,'核函数的模型测试集得分: {:.3f}'.format(svr.score(X_test_scaled,y_test)))"
   ]
  },
  {
   "cell_type": "code",
   "execution_count": 7,
   "metadata": {},
   "outputs": [
    {
     "name": "stdout",
     "output_type": "stream",
     "text": [
      "调节参数后的\"rbf\"内核的SVR模型在训练集得分:0.966\n",
      "调节参数后的\"rbf\"内核的SVR模型在测试集得分:0.894\n"
     ]
    }
   ],
   "source": [
    "#设置\"rbf\"内核的SVR模型的C参数和gamma参数\n",
    "svr = SVR(C=100,gamma=0.1)\n",
    "svr.fit(X_train_scaled,y_train)\n",
    "print('调节参数后的\"rbf\"内核的SVR模型在训练集得分:{:.3f}'.format(svr.score(X_train_scaled,y_train)))\n",
    "print('调节参数后的\"rbf\"内核的SVR模型在测试集得分:{:.3f}'.format(svr.score(X_test_scaled,y_test)))"
   ]
  },
  {
   "cell_type": "code",
   "execution_count": null,
   "metadata": {},
   "outputs": [],
   "source": []
  },
  {
   "cell_type": "code",
   "execution_count": null,
   "metadata": {},
   "outputs": [],
   "source": []
  }
 ],
 "metadata": {
  "kernelspec": {
   "display_name": "Python 3",
   "language": "python",
   "name": "python3"
  },
  "language_info": {
   "codemirror_mode": {
    "name": "ipython",
    "version": 3
   },
   "file_extension": ".py",
   "mimetype": "text/x-python",
   "name": "python",
   "nbconvert_exporter": "python",
   "pygments_lexer": "ipython3",
   "version": "3.7.3"
  }
 },
 "nbformat": 4,
 "nbformat_minor": 2
}
